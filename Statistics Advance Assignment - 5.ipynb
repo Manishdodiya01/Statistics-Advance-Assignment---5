{
 "cells": [
  {
   "cell_type": "markdown",
   "id": "ba70c7c8-02ed-42a5-88b6-cd1e6179d6a1",
   "metadata": {
    "jp-MarkdownHeadingCollapsed": true,
    "tags": []
   },
   "source": [
    "# Q1. Calculate the 95% confidence interval for a sample of data with a mean of 50 and a standard deviation of 5 using Python. Interpret the results."
   ]
  },
  {
   "cell_type": "code",
   "execution_count": 1,
   "id": "59b3aa05-ce7c-4355-8d40-dce4320b872c",
   "metadata": {},
   "outputs": [
    {
     "name": "stdout",
     "output_type": "stream",
     "text": [
      "95 % Confidence_interval (49.02001800772997, 50.97998199227003)\n"
     ]
    }
   ],
   "source": [
    "import numpy as np\n",
    "import scipy.stats as st\n",
    "\n",
    "mean = 50\n",
    "std = 5\n",
    "example_size = 100\n",
    "\n",
    "\n",
    "standard_error = std / np.sqrt(example_size)\n",
    "confidence_interval = st.norm.interval(0.95 , loc = mean , scale = standard_error)\n",
    "print(\"95 % Confidence_interval\" , confidence_interval)"
   ]
  },
  {
   "cell_type": "markdown",
   "id": "dab0c07d-4e1c-451c-b4fd-6f873edb0f1b",
   "metadata": {
    "jp-MarkdownHeadingCollapsed": true,
    "tags": []
   },
   "source": [
    "# Q2. Conduct a chi-square goodness of fit test to determine if the distribution of colors of M&Ms in a bag matches the expected distribution of 20% blue, 20% orange, 20% green, 10% yellow, 10% red, and 20% brown. Use Python to perform the test with a significance level of 0.05."
   ]
  },
  {
   "cell_type": "code",
   "execution_count": 2,
   "id": "3e943713-0dcd-4304-af07-20eb64caa40f",
   "metadata": {},
   "outputs": [
    {
     "name": "stdout",
     "output_type": "stream",
     "text": [
      "Chi-square:  1.5\n",
      "P-value:  0.9130698145443954\n",
      "Degree of freedom:  5\n",
      "Critical-value:  11.070497693516351\n",
      "Fail to reject the null hypothesis\n"
     ]
    }
   ],
   "source": [
    "import scipy.stats as stats\n",
    "\n",
    "\n",
    "Expected_distribution = [2,2,2,1,1,2]\n",
    "Observed_distribution = [2,2,2,2,1,1]\n",
    "\n",
    "Chisquare_test_statistics , p_value = stats.chisquare(Observed_distribution,Expected_distribution)\n",
    "\n",
    "alpha = 0.05\n",
    "df = len(Expected_distribution) - 1\n",
    "Critical_value = stats.chi2.ppf(1 - alpha , df)\n",
    "\n",
    "print(\"Chi-square: \",Chisquare_test_statistics)\n",
    "print(\"P-value: \",p_value)\n",
    "print(\"Degree of freedom: \",df)\n",
    "print(\"Critical-value: \",Critical_value)\n",
    "\n",
    "\n",
    "if p_value < alpha:\n",
    "    print(\"Reject the null hypothesis\")\n",
    "else:\n",
    "    print(\"Fail to reject the null hypothesis\")"
   ]
  },
  {
   "cell_type": "markdown",
   "id": "e1fc8c64-6cdb-45cf-ada7-cabadcfe4629",
   "metadata": {
    "jp-MarkdownHeadingCollapsed": true,
    "tags": []
   },
   "source": [
    "# Q3. Use Python to calculate the chi-square statistic and p-value for a contingency table with the following data:"
   ]
  },
  {
   "cell_type": "code",
   "execution_count": 2,
   "id": "2afa310e-7670-43bb-931f-f127f13d5b1a",
   "metadata": {},
   "outputs": [],
   "source": [
    "#Group A and GroupB\n",
    "#Outcome 1 20 15\n",
    "#Outcome 2 10 25\n",
    "#Outcome 3 15 20\n"
   ]
  },
  {
   "cell_type": "code",
   "execution_count": 4,
   "id": "21a680be-d945-4330-9f5d-6eebd8c23da8",
   "metadata": {},
   "outputs": [
    {
     "name": "stdout",
     "output_type": "stream",
     "text": [
      "Chi-square: 5.833333333333334\n",
      "P-Value: 0.05411376622282158\n",
      "Degree of Freedom: 2\n",
      "Expected_Value:\n",
      " [[15. 20.]\n",
      " [15. 20.]\n",
      " [15. 20.]]\n"
     ]
    }
   ],
   "source": [
    "import scipy.stats as stats\n",
    "import numpy as np\n",
    "\n",
    "observed_data = np.array([[20,15],\n",
    "                         [10,25],\n",
    "                         [15,20]])\n",
    "\n",
    "chi2 , p_value , dof , expected = stats.chi2_contingency(observed_data)\n",
    "\n",
    "print(f\"Chi-square: {chi2}\")\n",
    "print(f\"P-Value: {p_value}\")\n",
    "print(f\"Degree of Freedom: {dof}\")\n",
    "print(f\"Expected_Value:\\n {expected}\")"
   ]
  },
  {
   "cell_type": "markdown",
   "id": "d9a62b55-84e8-4be9-89e1-3950ff0da9d6",
   "metadata": {
    "jp-MarkdownHeadingCollapsed": true,
    "tags": []
   },
   "source": [
    "# Q4. A study of the prevalence of smoking in a population of 500 individuals found that 60 individuals smoked. Use Python to calculate the 95% confidence interval for the true proportion of individuals in the population who smoke."
   ]
  },
  {
   "cell_type": "code",
   "execution_count": 1,
   "id": "4b8ad0d4-3d45-4ee4-84db-ce86aab9845a",
   "metadata": {},
   "outputs": [
    {
     "name": "stdout",
     "output_type": "stream",
     "text": [
      "95% Confidence Interval: (0.09151586546865079, 0.1484841345313492)\n"
     ]
    }
   ],
   "source": [
    "import scipy.stats as stats\n",
    "import numpy as np\n",
    "\n",
    "sample_size = 500\n",
    "sample_proportion = 60 / sample_size \n",
    "\n",
    "\n",
    "standard_error = np.sqrt(sample_proportion * (1 - sample_proportion) / sample_size)\n",
    "margin_of_error = 1.96 * standard_error\n",
    "\n",
    "\n",
    "confidence_interval_lower = sample_proportion - margin_of_error\n",
    "confidence_interval_upper = sample_proportion + margin_of_error\n",
    "\n",
    "print(\"95% Confidence Interval:\", (confidence_interval_lower, confidence_interval_upper))\n"
   ]
  },
  {
   "cell_type": "markdown",
   "id": "7ad2fd51-149d-4569-b008-2adc7a7abffa",
   "metadata": {
    "jp-MarkdownHeadingCollapsed": true,
    "tags": []
   },
   "source": [
    "# Q5. Calculate the 90% confidence interval for a sample of data with a mean of 75 and a standard deviation of 12 using Python. Interpret the results."
   ]
  },
  {
   "cell_type": "code",
   "execution_count": 3,
   "id": "dd1f284e-36d9-48f1-8eef-db1598f7c2e8",
   "metadata": {},
   "outputs": [
    {
     "name": "stdout",
     "output_type": "stream",
     "text": [
      "90 % Confidence interval for sample:  (55.26175647658233, 94.73824352341767)\n"
     ]
    }
   ],
   "source": [
    "import scipy.stats as stats\n",
    "\n",
    "Mean = 75\n",
    "Std = 12\n",
    "Confidence_interval = 0.90\n",
    "\n",
    "output = stats.norm.interval(Confidence_interval , loc = Mean , scale = Std)\n",
    "print(\"90 % Confidence interval for sample: \",output)"
   ]
  },
  {
   "cell_type": "markdown",
   "id": "ca3abc38-5fc9-44d0-8551-4485cea5a2be",
   "metadata": {
    "jp-MarkdownHeadingCollapsed": true,
    "tags": []
   },
   "source": [
    "# Q6. Use Python to plot the chi-square distribution with 10 degrees of freedom. Label the axes and shade the area corresponding to a chi-square statistic of 15."
   ]
  },
  {
   "cell_type": "code",
   "execution_count": 4,
   "id": "163788c2-3fb4-4214-8c38-c0f508917564",
   "metadata": {},
   "outputs": [
    {
     "data": {
      "image/png": "[encoded data removed]",
      "text/plain": [
       "<Figure size 640x480 with 1 Axes>"
      ]
     },
     "metadata": {},
     "output_type": "display_data"
    }
   ],
   "source": [
    "import scipy.stats as stats\n",
    "import matplotlib.pyplot as plt\n",
    "import numpy as np\n",
    "\n",
    "df = 10\n",
    "x = np.linspace(0,30,500)\n",
    "\n",
    "chi2_pdf = stats.chi2.pdf(x ,df)\n",
    "\n",
    "plt.plot(x , chi2_pdf , label = f\"chi-square (df={df})\")\n",
    "\n",
    "x_shade = np.linspace(0,15,500)\n",
    "y_shade = stats.chi2.pdf(x_shade,df)\n",
    "plt.fill_between(x_shade , y_shade , color='gray',alpha = 0.5)\n",
    "\n",
    "plt.title(f'Chi-Square Distribution (df={df})')\n",
    "plt.xlabel('X')\n",
    "plt.ylabel('Probability Density Function')\n",
    "plt.legend()\n",
    "plt.grid(True)\n",
    "plt.show()"
   ]
  },
  {
   "cell_type": "markdown",
   "id": "94f4c6c5-0ed0-47bd-959a-d866b343bdf2",
   "metadata": {
    "jp-MarkdownHeadingCollapsed": true,
    "tags": []
   },
   "source": [
    "# Q7. A random sample of 1000 people was asked if they preferred Coke or Pepsi. Of the sample, 520 preferred Coke. Calculate a 99% confidence interval for the true proportion of people in the population who prefer Coke."
   ]
  },
  {
   "cell_type": "code",
   "execution_count": 1,
   "id": "97832a87-4d54-4711-9af3-5c3214cadea5",
   "metadata": {},
   "outputs": [
    {
     "name": "stdout",
     "output_type": "stream",
     "text": [
      "THE 99% CONFIDENCE INTERVAL FOR THE TRUE PROPORTION OF PEOPLE WHO PREFER COKE IS 0.4793051576779699 to 0.5606948423220302\n"
     ]
    }
   ],
   "source": [
    "import scipy.stats as stats\n",
    "import numpy as np\n",
    "\n",
    "size = 1000\n",
    "sample_proportion = 520 / size\n",
    "confidence_interval = 0.99\n",
    "alpha = 1 - confidence_interval\n",
    "\n",
    "z_score = stats.norm.ppf(1 - alpha / 2)\n",
    "standard_error = np.sqrt(sample_proportion * (1 - sample_proportion) / size)\n",
    "\n",
    "lower_bound = sample_proportion - z_score * standard_error\n",
    "upper_bound = sample_proportion + z_score * standard_error\n",
    "\n",
    "print(\"THE 99% CONFIDENCE INTERVAL FOR THE TRUE PROPORTION OF PEOPLE WHO PREFER COKE IS\", lower_bound, \"to\",upper_bound)"
   ]
  },
  {
   "cell_type": "markdown",
   "id": "b4f060b3-8ceb-408c-bc1d-0b2e053da67d",
   "metadata": {
    "jp-MarkdownHeadingCollapsed": true,
    "tags": []
   },
   "source": [
    "# Q8. A researcher hypothesizes that a coin is biased towards tails. They flip the coin 100 times and observe 45 tails. Conduct a chi-square goodness of fit test to determine if the observed frequencies match the expected frequencies of a fair coin. Use a significance level of 0.05."
   ]
  },
  {
   "cell_type": "code",
   "execution_count": 3,
   "id": "4e99a32a-2adc-406f-80ec-ae25b3506936",
   "metadata": {},
   "outputs": [
    {
     "name": "stdout",
     "output_type": "stream",
     "text": [
      "chi-square:  0.0\n",
      "P-value:  1.0\n",
      "Fail to reject the null hypothesis\n"
     ]
    }
   ],
   "source": [
    "import scipy.stats as stats\n",
    "import numpy as np\n",
    "\n",
    "observed = [45,55]\n",
    "expected = [50,50]\n",
    "df = len(observed) - 1\n",
    "alpha = 0.05\n",
    "\n",
    "chi_square_stat , p_value , _ , _= stats.chi2_contingency(observed,expected)\n",
    "\n",
    "print(\"chi-square: \",chi_square_stat)\n",
    "print(\"P-value: \",p_value)\n",
    "\n",
    "if p_value < alpha:\n",
    "    print(\"Reject the null hypothesis\")\n",
    "else:\n",
    "    print(\"Fail to reject the null hypothesis\")"
   ]
  },
  {
   "cell_type": "markdown",
   "id": "7145dfae-0b0c-46c3-b46c-7b190b89c680",
   "metadata": {
    "jp-MarkdownHeadingCollapsed": true,
    "tags": []
   },
   "source": [
    "# Q9. A study was conducted to determine if there is an association between smoking status (smoker or non-smoker) and lung cancer diagnosis (yes or no). The results are shown in the contingency table below. Conduct a chi-square test for independence to determine if there is a significant association between smoking status and lung cancer diagnosis.Use a significance level of 0.05."
   ]
  },
  {
   "cell_type": "code",
   "execution_count": 4,
   "id": "f655a126-5cd4-4ba3-972e-b2698e4ad5c2",
   "metadata": {},
   "outputs": [
    {
     "name": "stdout",
     "output_type": "stream",
     "text": [
      "chi-square test statistics:  12.057347670250895\n",
      "P-value:  0.0005158863863703744\n",
      "Degree of freedom:  1\n",
      "Critical_chi_square:  3.841458820694124\n",
      "Reject the null hypothesis\n"
     ]
    }
   ],
   "source": [
    "import numpy as np\n",
    "import scipy.stats as stats\n",
    "\n",
    "observed_data = [[60,140] , [30,170]]\n",
    "alpha = 0.05\n",
    "df = (len(observed_data) - 1 * (len(observed_data) - 1))\n",
    "\n",
    "chi_test_stat , p_value , dof , expected = stats.chi2_contingency(observed_data)\n",
    "chi_square_value = stats.chi2.ppf(1 - alpha , df)\n",
    "\n",
    "print(\"chi-square test statistics: \",chi_test_stat)\n",
    "print(\"P-value: \",p_value)\n",
    "print(\"Degree of freedom: \",dof)\n",
    "print(\"Critical_chi_square: \",chi_square_value)\n",
    "\n",
    "if p_value < alpha:\n",
    "    print(\"Reject the null hypothesis\")\n",
    "else:\n",
    "    print(\"Fail to reject the null hypothesis\")"
   ]
  },
  {
   "cell_type": "markdown",
   "id": "7fd79428-0b7f-468f-ac3d-5ad7b9abae02",
   "metadata": {
    "jp-MarkdownHeadingCollapsed": true,
    "tags": []
   },
   "source": [
    "# Q10. A study was conducted to determine if the proportion of people who prefer milk chocolate, dark chocolate, or white chocolate is different in the U.S. versus the U.K. A random sample of 500 people from the U.S. and a random sample of 500 people from the U.K. were surveyed. The results are shown in the contingency table below. Conduct a chi-square test for independence to determine if there is a significant association between chocolate preference and country of origin.Use a significance level of 0.01."
   ]
  },
  {
   "cell_type": "code",
   "execution_count": 8,
   "id": "91885852-de69-407c-a16c-2a0c765912fa",
   "metadata": {},
   "outputs": [
    {
     "name": "stdout",
     "output_type": "stream",
     "text": [
      "chi-stat:  13.393665158371041\n",
      "P-value:  0.0012348168997745918\n",
      "dof:  2\n",
      "Critical:  9.21034037197618\n",
      "expected:\n",
      " [[212.5 162.5 125. ]\n",
      " [212.5 162.5 125. ]]\n",
      "Reject the null hypothesis\n"
     ]
    }
   ],
   "source": [
    "import scipy.stats as stats\n",
    "import numpy as np\n",
    "\n",
    "n = 500\n",
    "observed_data = [[200,150,150] , [225,175,100]]\n",
    "alpha = 0.01\n",
    "\n",
    "chi_stat , p_value , dof , expected = stats.chi2_contingency(observed_data)\n",
    "critical_value = stats.chi2.ppf(1 - alpha , dof)\n",
    "\n",
    "print(\"chi-stat: \" ,chi_stat)\n",
    "print(\"P-value: \" ,p_value)\n",
    "print(\"dof: \" ,dof)\n",
    "print(\"Critical: \" ,critical_value)\n",
    "print(\"expected:\\n\",expected)\n",
    "\n",
    "if p_value < alpha:\n",
    "    print(\"Reject the null hypothesis\")\n",
    "else:\n",
    "    print(\"Fail to reject the null hypothesis\")"
   ]
  },
  {
   "cell_type": "markdown",
   "id": "8d766be8-5202-42ce-8844-a4d640b4f4b1",
   "metadata": {},
   "source": [
    "# Q11. A random sample of 30 people was selected from a population with an unknown mean and standard deviation. The sample mean was found to be 72 and the sample standard deviation was found to be 10. Conduct a hypothesis test to determine if the population mean is significantly different from 70. Use a significance level of 0.05."
   ]
  },
  {
   "cell_type": "code",
   "execution_count": 14,
   "id": "84d9d9a5-b5a5-4b91-ac11-1a1d88e04250",
   "metadata": {},
   "outputs": [
    {
     "name": "stdout",
     "output_type": "stream",
     "text": [
      "z-statistics:  0.03651483716701107\n",
      "Fail to reject the null hypothesis\n"
     ]
    }
   ],
   "source": [
    "import numpy as np\n",
    "import scipy.stats as stats\n",
    "\n",
    "sample_size = 30\n",
    "sample_mean = 72\n",
    "population_mean = 70\n",
    "sample_std = 10\n",
    "alpha = 0.05\n",
    "\n",
    "z_test = (sample_mean - population_mean) / sample_std / np.sqrt(sample_size)\n",
    "print(\"z-statistics: \" ,z_test)\n",
    "if z_test > alpha:\n",
    "    print(\"Reject the null hypothesis\")\n",
    "else:\n",
    "    print(\"Fail to reject the null hypothesis\")"
   ]
  }
 ],
 "metadata": {
  "kernelspec": {
   "display_name": "Python 3 (ipykernel)",
   "language": "python",
   "name": "python3"
  },
  "language_info": {
   "codemirror_mode": {
    "name": "ipython",
    "version": 3
   },
   "file_extension": ".py",
   "mimetype": "text/x-python",
   "name": "python",
   "nbconvert_exporter": "python",
   "pygments_lexer": "ipython3",
   "version": "3.10.8"
  }
 },
 "nbformat": 4,
 "nbformat_minor": 5
}
